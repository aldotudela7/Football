{
 "cells": [
  {
   "cell_type": "code",
   "execution_count": 2,
   "metadata": {},
   "outputs": [],
   "source": [
    "import requests\n",
    "from match import Match\n",
    "from read_match_data import parse_match\n",
    "import matplotlib.pyplot as plt\n",
    "%matplotlib inline"
   ]
  },
  {
   "cell_type": "code",
   "execution_count": 3,
   "metadata": {},
   "outputs": [],
   "source": [
    "# See API documentation for options available: https://docs.football-data.org/general/v4/index.html\n",
    "league = 'PL' \n",
    "seasons = ['2020','2021','2022']\n",
    "\n",
    "headers = { \n",
    "    'X-Auth-Token': '13b41abb78284b7482713f316a0e3578',\n",
    "           }"
   ]
  },
  {
   "cell_type": "code",
   "execution_count": 4,
   "metadata": {},
   "outputs": [],
   "source": [
    "matches_list = []\n",
    "for season in seasons:\n",
    "    uri = 'https://api.football-data.org/v4/competitions/{}/matches?season={}'.format(league, season)\n",
    "    response = requests.get(uri, headers=headers)\n",
    "    matches_dict = parse_match(response.json()['matches'])\n",
    "    matches_list.extend(matches_dict)"
   ]
  },
  {
   "cell_type": "code",
   "execution_count": 5,
   "metadata": {},
   "outputs": [],
   "source": [
    "matches = [ Match(d['league'], \n",
    "                  d['season_start'],\n",
    "                  d['season_end'], \n",
    "                  d['date'],\n",
    "                  d['status'],\n",
    "                  d['matchday'],\n",
    "                  d['home_team'],\n",
    "                  d['home_team_short'],\n",
    "                  d['home_team_code'],\n",
    "                  d['away_team'],\n",
    "                  d['away_team_short'],\n",
    "                  d['away_team_code'],\n",
    "                  d['home_team_score'],\n",
    "                  d['away_team_score'],\n",
    "                  d['home_team_halfscore'],\n",
    "                  d['away_team_halfscore'],) for d in matches_list ]"
   ]
  },
  {
   "cell_type": "code",
   "execution_count": 6,
   "metadata": {},
   "outputs": [
    {
     "data": {
      "text/plain": [
       "1140"
      ]
     },
     "execution_count": 6,
     "metadata": {},
     "output_type": "execute_result"
    }
   ],
   "source": [
    "len(matches)"
   ]
  },
  {
   "cell_type": "code",
   "execution_count": 7,
   "metadata": {},
   "outputs": [
    {
     "data": {
      "text/plain": [
       "[Match(Matchday:38, home:Brentford FC, away:Manchester City FC,1:0, winner:Brentford FC),\n",
       " Match(Matchday:38, home:Aston Villa FC, away:Brighton & Hove Albion FC,2:1, winner:Aston Villa FC),\n",
       " Match(Matchday:38, home:Arsenal FC, away:Wolverhampton Wanderers FC,5:0, winner:Arsenal FC)]"
      ]
     },
     "execution_count": 7,
     "metadata": {},
     "output_type": "execute_result"
    }
   ],
   "source": [
    "last_matches = matches[-3:]\n",
    "last_matches"
   ]
  },
  {
   "cell_type": "code",
   "execution_count": 8,
   "metadata": {},
   "outputs": [
    {
     "data": {
      "text/plain": [
       "Match(Matchday:38, home:Arsenal FC, away:Wolverhampton Wanderers FC,5:0, winner:Arsenal FC)"
      ]
     },
     "execution_count": 8,
     "metadata": {},
     "output_type": "execute_result"
    }
   ],
   "source": [
    "last_matches[2]"
   ]
  },
  {
   "cell_type": "code",
   "execution_count": 15,
   "metadata": {},
   "outputs": [],
   "source": [
    "team_a = last_matches[2].home_team\n",
    "team_a_short = last_matches[2].home_team_short\n",
    "team_b = last_matches[2].away_team\n",
    "team_b_short = last_matches[2].away_team_short"
   ]
  },
  {
   "cell_type": "code",
   "execution_count": 10,
   "metadata": {},
   "outputs": [
    {
     "data": {
      "text/plain": [
       "[Match(Matchday:10, home:Arsenal FC, away:Wolverhampton Wanderers FC,1:2, winner:Wolverhampton Wanderers FC),\n",
       " Match(Matchday:22, home:Wolverhampton Wanderers FC, away:Arsenal FC,2:1, winner:Wolverhampton Wanderers FC),\n",
       " Match(Matchday:24, home:Wolverhampton Wanderers FC, away:Arsenal FC,0:1, winner:Arsenal FC),\n",
       " Match(Matchday:20, home:Arsenal FC, away:Wolverhampton Wanderers FC,2:1, winner:Arsenal FC),\n",
       " Match(Matchday:16, home:Wolverhampton Wanderers FC, away:Arsenal FC,0:2, winner:Arsenal FC),\n",
       " Match(Matchday:38, home:Arsenal FC, away:Wolverhampton Wanderers FC,5:0, winner:Arsenal FC)]"
      ]
     },
     "execution_count": 10,
     "metadata": {},
     "output_type": "execute_result"
    }
   ],
   "source": [
    "previous_matches = []\n",
    "for match in matches:\n",
    "    if match.home_team == team_a and match.away_team == team_b:\n",
    "        previous_matches.append(match)\n",
    "    elif match.home_team == team_b and match.away_team == team_a:\n",
    "        previous_matches.append(match)\n",
    "\n",
    "previous_matches"
   ]
  },
  {
   "cell_type": "code",
   "execution_count": 11,
   "metadata": {},
   "outputs": [
    {
     "data": {
      "text/plain": [
       "2021"
      ]
     },
     "execution_count": 11,
     "metadata": {},
     "output_type": "execute_result"
    }
   ],
   "source": [
    "previous_matches[0].season_end.year"
   ]
  },
  {
   "cell_type": "code",
   "execution_count": 19,
   "metadata": {},
   "outputs": [
    {
     "data": {
      "image/png": "[encoded data removed]",
      "text/plain": [
       "<Figure size 640x480 with 2 Axes>"
      ]
     },
     "metadata": {},
     "output_type": "display_data"
    }
   ],
   "source": [
    "team_a_home_season = [ str(x.season_start.year)+\"/\"+str(x.season_end.year) for x in previous_matches if x.home_team==team_a ]\n",
    "team_a_away_season = [ str(x.season_start.year)+\"/\"+str(x.season_end.year) for x in previous_matches if x.away_team==team_a ]\n",
    "\n",
    "team_a_home_scores = [ x.home_team_score for x in previous_matches if x.home_team==team_a ]\n",
    "team_b_away_scores = [ x.away_team_score for x in previous_matches if x.away_team==team_b ]\n",
    "team_a_away_scores = [ x.away_team_score for x in previous_matches if x.away_team==team_a ]\n",
    "team_b_home_scores = [ x.home_team_score for x in previous_matches if x.home_team==team_b ]\n",
    "\n",
    "fig, (ax1,ax2) = plt.subplots(2,1)\n",
    "ax1.bar(team_a_home_season, team_a_home_scores, team_b_away_scores)\n",
    "ax2.bar(team_a_away_season, team_a_away_scores, team_b_home_scores)\n",
    "\n",
    "ax1.set_title(\"Results for {} at home vs {}\".format(team_a_short, team_b_short))\n",
    "ax1.set_ylabel(\"Goals\")\n",
    "ax2.set_title(\"Results for {} away vs {}\".format(team_a_short, team_b_short))\n",
    "ax2.set_ylabel(\"Goals\")\n",
    "\n",
    "plt.show()"
   ]
  },
  {
   "cell_type": "code",
   "execution_count": null,
   "metadata": {},
   "outputs": [
    {
     "data": {
      "text/plain": [
       "[2, 1, 0]"
      ]
     },
     "execution_count": 29,
     "metadata": {},
     "output_type": "execute_result"
    }
   ],
   "source": [
    "team_b_away_scores"
   ]
  },
  {
   "cell_type": "code",
   "execution_count": null,
   "metadata": {},
   "outputs": [],
   "source": []
  }
 ],
 "metadata": {
  "kernelspec": {
   "display_name": "Python 3",
   "language": "python",
   "name": "python3"
  },
  "language_info": {
   "codemirror_mode": {
    "name": "ipython",
    "version": 3
   },
   "file_extension": ".py",
   "mimetype": "text/x-python",
   "name": "python",
   "nbconvert_exporter": "python",
   "pygments_lexer": "ipython3",
   "version": "3.8.3"
  },
  "orig_nbformat": 4
 },
 "nbformat": 4,
 "nbformat_minor": 2
}
