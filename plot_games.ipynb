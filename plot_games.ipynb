{
 "cells": [
  {
   "cell_type": "code",
   "execution_count": 1,
   "metadata": {},
   "outputs": [],
   "source": [
    "import requests\n",
    "from match import Match\n",
    "from read_match_data import parse_match\n",
    "import matplotlib.pyplot as plt\n",
    "import numpy as np\n",
    "%matplotlib inline"
   ]
  },
  {
   "attachments": {},
   "cell_type": "markdown",
   "metadata": {},
   "source": [
    "This notebook grabs historic match data from the free API https://www.football-data.org and prepares some graphs summarizing latest results.\n",
    "\n",
    "The next cell is an example cell to run an API query. You can see all possible examples at https://www.football-data.org/documentation/quickstart"
   ]
  },
  {
   "cell_type": "code",
   "execution_count": 43,
   "metadata": {},
   "outputs": [],
   "source": [
    "# headers = { \n",
    "#     'X-Auth-Token': '13b41abb78284b7482713f316a0e3578',\n",
    "#     \"X-Unfold-Goals\": 'true'\n",
    "#            }\n",
    "# uri = 'http://api.football-data.org/v4/matches/327125/head2head?limit=50'\n",
    "# response = requests.get(uri, headers=headers)\n",
    "# response.json()"
   ]
  },
  {
   "attachments": {},
   "cell_type": "markdown",
   "metadata": {},
   "source": [
    "The next cells query the API for a specific league and season. You can change these but the licensed token doesn't have many. You can look at \"PL\" for Premier League, or \"CL\" for Champions League, or \"PD\" for La Liga. You can see all league codes here: https://docs.football-data.org/general/v4/lookup_tables.html, but only Tier 1 are available, as described here: https://www.football-data.org/coverage"
   ]
  },
  {
   "cell_type": "code",
   "execution_count": 44,
   "metadata": {},
   "outputs": [],
   "source": [
    "# See API documentation for options available: https://docs.football-data.org/general/v4/index.html\n",
    "league = 'PL' \n",
    "seasons = ['2020','2021','2022']\n",
    "\n",
    "headers = { \n",
    "    'X-Auth-Token': '13b41abb78284b7482713f316a0e3578',\n",
    "           }"
   ]
  },
  {
   "cell_type": "code",
   "execution_count": 45,
   "metadata": {},
   "outputs": [
    {
     "data": {
      "text/plain": [
       "{'filters': {'limit': '50', 'permission': 'TIER_ONE'},\n",
       " 'resultSet': {'count': 2,\n",
       "  'competitions': 'PL',\n",
       "  'first': '2022-08-06',\n",
       "  'last': '2023-03-18'},\n",
       " 'aggregates': {'numberOfMatches': 50,\n",
       "  'totalGoals': 156,\n",
       "  'homeTeam': {'id': 73,\n",
       "   'name': 'Tottenham Hotspur FC',\n",
       "   'wins': 26,\n",
       "   'draws': 10,\n",
       "   'losses': 14},\n",
       "  'awayTeam': {'id': 340,\n",
       "   'name': 'Southampton FC',\n",
       "   'wins': 14,\n",
       "   'draws': 10,\n",
       "   'losses': 26}},\n",
       " 'matches': [{'area': {'id': 2072,\n",
       "    'name': 'England',\n",
       "    'code': 'ENG',\n",
       "    'flag': 'https://crests.football-data.org/770.svg'},\n",
       "   'competition': {'id': 2021,\n",
       "    'name': 'Premier League',\n",
       "    'code': 'PL',\n",
       "    'type': 'LEAGUE',\n",
       "    'emblem': 'https://crests.football-data.org/PL.png'},\n",
       "   'season': {'id': 1490,\n",
       "    'startDate': '2022-08-05',\n",
       "    'endDate': '2023-05-28',\n",
       "    'currentMatchday': 38,\n",
       "    'winner': {'id': 65,\n",
       "     'name': 'Manchester City FC',\n",
       "     'shortName': 'Man City',\n",
       "     'tla': 'MCI',\n",
       "     'crest': 'https://crests.football-data.org/65.png',\n",
       "     'address': 'SportCity Manchester M11 3FF',\n",
       "     'website': 'https://www.mancity.com',\n",
       "     'founded': 1880,\n",
       "     'clubColors': 'Sky Blue / White',\n",
       "     'venue': 'Etihad Stadium',\n",
       "     'lastUpdated': '2022-02-10T19:48:37Z'}},\n",
       "   'id': 416106,\n",
       "   'utcDate': '2023-03-18T15:00:00Z',\n",
       "   'status': 'FINISHED',\n",
       "   'matchday': 28,\n",
       "   'stage': 'REGULAR_SEASON',\n",
       "   'group': None,\n",
       "   'lastUpdated': '2023-04-30T11:48:49Z',\n",
       "   'homeTeam': {'id': 340,\n",
       "    'name': 'Southampton FC',\n",
       "    'shortName': 'Southampton',\n",
       "    'tla': 'SOU',\n",
       "    'crest': 'https://crests.football-data.org/340.png'},\n",
       "   'awayTeam': {'id': 73,\n",
       "    'name': 'Tottenham Hotspur FC',\n",
       "    'shortName': 'Tottenham',\n",
       "    'tla': 'TOT',\n",
       "    'crest': 'https://crests.football-data.org/73.svg'},\n",
       "   'score': {'winner': 'DRAW',\n",
       "    'duration': 'REGULAR',\n",
       "    'fullTime': {'home': 3, 'away': 3},\n",
       "    'halfTime': {'home': 0, 'away': 1}},\n",
       "   'odds': {'msg': 'Activate Odds-Package in User-Panel to retrieve odds.'},\n",
       "   'referees': [{'id': 11430,\n",
       "     'name': 'Simon Hooper',\n",
       "     'type': 'REFEREE',\n",
       "     'nationality': 'England'}]},\n",
       "  {'area': {'id': 2072,\n",
       "    'name': 'England',\n",
       "    'code': 'ENG',\n",
       "    'flag': 'https://crests.football-data.org/770.svg'},\n",
       "   'competition': {'id': 2021,\n",
       "    'name': 'Premier League',\n",
       "    'code': 'PL',\n",
       "    'type': 'LEAGUE',\n",
       "    'emblem': 'https://crests.football-data.org/PL.png'},\n",
       "   'season': {'id': 1490,\n",
       "    'startDate': '2022-08-05',\n",
       "    'endDate': '2023-05-28',\n",
       "    'currentMatchday': 38,\n",
       "    'winner': {'id': 65,\n",
       "     'name': 'Manchester City FC',\n",
       "     'shortName': 'Man City',\n",
       "     'tla': 'MCI',\n",
       "     'crest': 'https://crests.football-data.org/65.png',\n",
       "     'address': 'SportCity Manchester M11 3FF',\n",
       "     'website': 'https://www.mancity.com',\n",
       "     'founded': 1880,\n",
       "     'clubColors': 'Sky Blue / White',\n",
       "     'venue': 'Etihad Stadium',\n",
       "     'lastUpdated': '2022-02-10T19:48:37Z'}},\n",
       "   'id': 416378,\n",
       "   'utcDate': '2022-08-06T14:00:00Z',\n",
       "   'status': 'FINISHED',\n",
       "   'matchday': 1,\n",
       "   'stage': 'REGULAR_SEASON',\n",
       "   'group': None,\n",
       "   'lastUpdated': '2023-04-30T11:48:54Z',\n",
       "   'homeTeam': {'id': 73,\n",
       "    'name': 'Tottenham Hotspur FC',\n",
       "    'shortName': 'Tottenham',\n",
       "    'tla': 'TOT',\n",
       "    'crest': 'https://crests.football-data.org/73.svg'},\n",
       "   'awayTeam': {'id': 340,\n",
       "    'name': 'Southampton FC',\n",
       "    'shortName': 'Southampton',\n",
       "    'tla': 'SOU',\n",
       "    'crest': 'https://crests.football-data.org/340.png'},\n",
       "   'score': {'winner': 'HOME_TEAM',\n",
       "    'duration': 'REGULAR',\n",
       "    'fullTime': {'home': 4, 'away': 1},\n",
       "    'halfTime': {'home': 2, 'away': 1}},\n",
       "   'odds': {'msg': 'Activate Odds-Package in User-Panel to retrieve odds.'},\n",
       "   'referees': [{'id': 11610,\n",
       "     'name': 'Andre Marriner',\n",
       "     'type': 'REFEREE',\n",
       "     'nationality': 'England'}]}]}"
      ]
     },
     "execution_count": 45,
     "metadata": {},
     "output_type": "execute_result"
    }
   ],
   "source": [
    "headers = { \n",
    "    'X-Auth-Token': '13b41abb78284b7482713f316a0e3578',\n",
    "    \"X-Unfold-Goals\": 'true'\n",
    "           }\n",
    "uri = 'http://api.football-data.org/v4/matches/327125/head2head?limit=50'\n",
    "response = requests.get(uri, headers=headers)\n",
    "response.json()"
   ]
  },
  {
   "cell_type": "code",
   "execution_count": 46,
   "metadata": {},
   "outputs": [],
   "source": [
    "matches_list = []\n",
    "for season in seasons:\n",
    "    uri = 'https://api.football-data.org/v4/competitions/{}/matches?season={}'.format(league, season)\n",
    "    response = requests.get(uri, headers=headers)\n",
    "    matches_dict = parse_match(response.json()['matches'])\n",
    "    matches_list.extend(matches_dict)"
   ]
  },
  {
   "cell_type": "code",
   "execution_count": 47,
   "metadata": {},
   "outputs": [],
   "source": [
    "matches = [ Match(d['league'], \n",
    "                  d['season_start'],\n",
    "                  d['season_end'], \n",
    "                  d['date'],\n",
    "                  d['status'],\n",
    "                  d['matchday'],\n",
    "                  d['home_team'],\n",
    "                  d['home_team_short'],\n",
    "                  d['home_team_code'],\n",
    "                  d['away_team'],\n",
    "                  d['away_team_short'],\n",
    "                  d['away_team_code'],\n",
    "                  d['home_team_score'],\n",
    "                  d['away_team_score'],\n",
    "                  d['home_team_halfscore'],\n",
    "                  d['away_team_halfscore'],) for d in matches_list ]"
   ]
  },
  {
   "cell_type": "code",
   "execution_count": 48,
   "metadata": {},
   "outputs": [
    {
     "data": {
      "text/plain": [
       "1140"
      ]
     },
     "execution_count": 48,
     "metadata": {},
     "output_type": "execute_result"
    }
   ],
   "source": [
    "len(matches)"
   ]
  },
  {
   "cell_type": "code",
   "execution_count": 49,
   "metadata": {},
   "outputs": [
    {
     "data": {
      "text/plain": [
       "[Match(Matchday:10, home:Arsenal FC, away:Wolverhampton Wanderers FC,1:2, winner:Wolverhampton Wanderers FC),\n",
       " Match(Matchday:22, home:Wolverhampton Wanderers FC, away:Arsenal FC,2:1, winner:Wolverhampton Wanderers FC),\n",
       " Match(Matchday:24, home:Wolverhampton Wanderers FC, away:Arsenal FC,0:1, winner:Arsenal FC),\n",
       " Match(Matchday:20, home:Arsenal FC, away:Wolverhampton Wanderers FC,2:1, winner:Arsenal FC),\n",
       " Match(Matchday:16, home:Wolverhampton Wanderers FC, away:Arsenal FC,0:2, winner:Arsenal FC),\n",
       " Match(Matchday:38, home:Arsenal FC, away:Wolverhampton Wanderers FC,5:0, winner:Arsenal FC)]"
      ]
     },
     "execution_count": 49,
     "metadata": {},
     "output_type": "execute_result"
    }
   ],
   "source": [
    "last_matches = matches[-3:]\n",
    "game = 2\n",
    "\n",
    "team_a = last_matches[game].home_team\n",
    "team_a_short = last_matches[game].home_team_short\n",
    "team_b = last_matches[game].away_team\n",
    "team_b_short = last_matches[game].away_team_short\n",
    "\n",
    "previous_matches = []\n",
    "for match in matches:\n",
    "    if match.home_team == team_a and match.away_team == team_b:\n",
    "        previous_matches.append(match)\n",
    "    elif match.home_team == team_b and match.away_team == team_a:\n",
    "        previous_matches.append(match)\n",
    "\n",
    "previous_matches"
   ]
  },
  {
   "cell_type": "code",
   "execution_count": 50,
   "metadata": {},
   "outputs": [
    {
     "data": {
      "image/png": "[encoded data removed]",
      "text/plain": [
       "<Figure size 640x480 with 2 Axes>"
      ]
     },
     "metadata": {},
     "output_type": "display_data"
    }
   ],
   "source": [
    "team_a_home_season = [ str(x.season_start.year)+\"/\"+str(x.season_end.year) for x in previous_matches if x.home_team==team_a ]\n",
    "team_a_away_season = [ str(x.season_start.year)+\"/\"+str(x.season_end.year) for x in previous_matches if x.away_team==team_a ]\n",
    "\n",
    "team_a_home_scores = [ x.home_team_score for x in previous_matches if x.home_team==team_a ]\n",
    "team_b_away_scores = [ x.away_team_score for x in previous_matches if x.away_team==team_b ]\n",
    "team_a_away_scores = [ x.away_team_score for x in previous_matches if x.away_team==team_a ]\n",
    "team_b_home_scores = [ x.home_team_score for x in previous_matches if x.home_team==team_b ]\n",
    "\n",
    "home_graph = {\n",
    "    team_a: team_a_home_scores,\n",
    "    team_b: team_b_home_scores\n",
    "}\n",
    "away_graph = {\n",
    "    team_a: team_a_away_scores,\n",
    "    team_b: team_b_away_scores\n",
    "}\n",
    "\n",
    "fig, (ax1,ax2) = plt.subplots(2,1, layout=\"constrained\")\n",
    "x = np.arange(len(team_a_home_season))  # the label locations\n",
    "width = 0.25  # the width of the bars\n",
    "multiplier = 0\n",
    "for attribute, measurement in home_graph.items():\n",
    "    offset = width * multiplier\n",
    "    graph = ax1.bar(x + offset, measurement, width, label=attribute, tick_label=team_a_home_season)\n",
    "    ax1.bar_label(graph, label_type='center')\n",
    "    multiplier += 1\n",
    "\n",
    "x = np.arange(len(team_a_away_season))  # the label locations\n",
    "width = 0.25  # the width of the bars\n",
    "multiplier = 0\n",
    "for attribute, measurement in away_graph.items():\n",
    "    offset = width * multiplier\n",
    "    graph = ax2.bar(x + offset, measurement, width, label=attribute, tick_label=team_a_away_season)\n",
    "    ax2.bar_label(graph, label_type='center')\n",
    "    multiplier += 1\n",
    "\n",
    "ax1.set_title(\"Past Results for {} at home vs {}\".format(team_a_short, team_b_short))\n",
    "ax1.set_ylabel(\"Goals\")\n",
    "ax1.legend(loc='upper left')\n",
    "ax2.set_title(\"Past Results for {} away vs {}\".format(team_a_short, team_b_short))\n",
    "ax2.set_ylabel(\"Goals\")\n",
    "ax2.legend(loc='upper left')\n",
    "\n",
    "plt.show()"
   ]
  },
  {
   "cell_type": "code",
   "execution_count": null,
   "metadata": {},
   "outputs": [],
   "source": []
  }
 ],
 "metadata": {
  "kernelspec": {
   "display_name": "Python 3",
   "language": "python",
   "name": "python3"
  },
  "language_info": {
   "codemirror_mode": {
    "name": "ipython",
    "version": 3
   },
   "file_extension": ".py",
   "mimetype": "text/x-python",
   "name": "python",
   "nbconvert_exporter": "python",
   "pygments_lexer": "ipython3",
   "version": "3.8.3"
  },
  "orig_nbformat": 4
 },
 "nbformat": 4,
 "nbformat_minor": 2
}
